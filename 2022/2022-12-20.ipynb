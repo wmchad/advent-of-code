{
 "cells": [
  {
   "cell_type": "markdown",
   "id": "bf7f87f1",
   "metadata": {},
   "source": [
    "It's finally time to meet back up with the Elves. When you try to contact them, however, you get no reply. Perhaps you're out of range?\n",
    "\n",
    "You know they're headed to the grove where the star fruit grows, so if you can figure out where that is, you should be able to meet back up with them.\n",
    "\n",
    "Fortunately, your handheld device has a file (your puzzle input) that contains the grove's coordinates! Unfortunately, the file is encrypted - just in case the device were to fall into the wrong hands.\n",
    "\n",
    "Maybe you can decrypt it?\n",
    "\n",
    "When you were still back at the camp, you overheard some Elves talking about coordinate file encryption. The main operation involved in decrypting the file is called mixing.\n",
    "\n",
    "The encrypted file is a list of numbers. To mix the file, move each number forward or backward in the file a number of positions equal to the value of the number being moved. The list is circular, so moving a number off one end of the list wraps back around to the other end as if the ends were connected.\n",
    "\n",
    "For example, to move the `1` in a sequence like `4, 5, 6, 1, 7, 8, 9`, the `1` moves one position forward: `4, 5, 6, 7, 1, 8, 9`. To move the `-2` in a sequence like `4, -2, 5, 6, 7, 8, 9`, the `-2` moves two positions backward, wrapping around: `4, 5, 6, 7, 8, -2, 9`.\n",
    "\n",
    "The numbers should be moved in the order they originally appear in the encrypted file. Numbers moving around during the mixing process do not change the order in which the numbers are moved.\n",
    "\n",
    "Consider this encrypted file:\n",
    "\n",
    "```\n",
    "1\n",
    "2\n",
    "-3\n",
    "3\n",
    "-2\n",
    "0\n",
    "4\n",
    "```\n",
    "\n",
    "Mixing this file proceeds as follows:\n",
    "\n",
    "```\n",
    "Initial arrangement:\n",
    "1, 2, -3, 3, -2, 0, 4\n",
    "\n",
    "1 moves between 2 and -3:\n",
    "2, 1, -3, 3, -2, 0, 4\n",
    "\n",
    "2 moves between -3 and 3:\n",
    "1, -3, 2, 3, -2, 0, 4\n",
    "\n",
    "-3 moves between -2 and 0:\n",
    "1, 2, 3, -2, -3, 0, 4\n",
    "\n",
    "3 moves between 0 and 4:\n",
    "1, 2, -2, -3, 0, 3, 4\n",
    "\n",
    "-2 moves between 4 and 1:\n",
    "1, 2, -3, 0, 3, 4, -2\n",
    "\n",
    "0 does not move:\n",
    "1, 2, -3, 0, 3, 4, -2\n",
    "\n",
    "4 moves between -3 and 0:\n",
    "1, 2, -3, 4, 0, 3, -2\n",
    "```\n",
    "\n",
    "Then, the grove coordinates can be found by looking at the 1000th, 2000th, and 3000th numbers after the value 0, wrapping around the list as necessary. In the above example, the 1000th number after 0 is 4, the 2000th is -3, and the 3000th is 2; adding these together produces 3.\n",
    "\n",
    "Mix your encrypted file exactly once. ***What is the sum of the three numbers that form the grove coordinates?***"
   ]
  },
  {
   "cell_type": "code",
   "execution_count": 52,
   "id": "6104ca65",
   "metadata": {},
   "outputs": [
    {
     "data": {
      "text/plain": [
       "9993"
      ]
     },
     "execution_count": 52,
     "metadata": {},
     "output_type": "execute_result"
    }
   ],
   "source": [
    "import numpy as np\n",
    "input_file  = open(\"data/2022-12-20-input.txt\")\n",
    "sequence = np.array([int(line.strip()) for line in input_file.readlines()])\n",
    "len(sequence)\n",
    "max(abs(np.array(sequence)))"
   ]
  },
  {
   "cell_type": "code",
   "execution_count": 78,
   "id": "74042c9f",
   "metadata": {},
   "outputs": [
    {
     "name": "stdout",
     "output_type": "stream",
     "text": [
      "[ 1  4  2  3 -2  0 -3]\n",
      "The sum of the coordinates is 3\n"
     ]
    }
   ],
   "source": [
    "def MixFile(sequence, times = 1):\n",
    "    sequence_length = len(sequence)\n",
    "    positions = np.array(range(sequence_length))\n",
    "    for j in range(times):\n",
    "        for i in range(sequence_length):\n",
    "            move = np.sign(sequence[i]) * (abs(sequence[i]) % (sequence_length - 1))\n",
    "            #move = sequence[i]\n",
    "            cur_position = positions[i]\n",
    "            final_position = cur_position + move\n",
    "            match np.sign(sequence[i]):\n",
    "                case 1 if final_position >= sequence_length:\n",
    "                    final_position += 1\n",
    "                case -1 if final_position <= 0:\n",
    "                    final_position -= 1\n",
    "            final_position = final_position % sequence_length\n",
    "            min_position = min(cur_position, final_position)\n",
    "            max_position = max(cur_position, final_position)\n",
    "            positions[np.where((positions >= min_position) & (positions <= max_position))] += (1 if final_position < cur_position else -1)\n",
    "            positions[i] = final_position\n",
    "    return positions\n",
    "\n",
    "def MixedSequence(sequence, positions):\n",
    "    return np.array([sequence[np.where(positions == x)][0] for x in range(len(sequence))])\n",
    "    \n",
    "test_sequence = np.array([1, 2, -3, 3, -2, 0, 4])\n",
    "test_final_sequence = MixedSequence(test_sequence, MixFile(test_sequence))\n",
    "print(test_final_sequence)\n",
    "zero_index = np.where(test_final_sequence == 0)[0][0]\n",
    "coordinate_sum = (test_final_sequence[(zero_index + 1000) % len(test_sequence)] +\n",
    "                  test_final_sequence[(zero_index + 2000) % len(test_sequence)] +\n",
    "                  test_final_sequence[(zero_index + 3000) % len(test_sequence)])\n",
    "print(f'The sum of the coordinates is {coordinate_sum}')\n"
   ]
  },
  {
   "cell_type": "code",
   "execution_count": 76,
   "id": "48cba8d5",
   "metadata": {},
   "outputs": [
    {
     "name": "stdout",
     "output_type": "stream",
     "text": [
      "The sum of the coordinates is 13883\n"
     ]
    },
    {
     "data": {
      "text/plain": [
       "array([    0, -7861,  3030,  4055,  5010, -8594,  5015,    63,  6508,\n",
       "        4167])"
      ]
     },
     "execution_count": 76,
     "metadata": {},
     "output_type": "execute_result"
    }
   ],
   "source": [
    "final_positions = MixFile(sequence)\n",
    "final_sequence = MixedSequence(sequence, final_positions)\n",
    "zero_index = np.where(final_sequence == 0)[0][0]\n",
    "coordinate_sum = (final_sequence[(zero_index + 1000) % len(sequence)] +\n",
    "                  final_sequence[(zero_index + 2000) % len(sequence)] +\n",
    "                  final_sequence[(zero_index + 3000) % len(sequence)])\n",
    "print(f'The sum of the coordinates is {coordinate_sum}')"
   ]
  },
  {
   "cell_type": "markdown",
   "id": "33db2a4d",
   "metadata": {},
   "source": [
    "The grove coordinate values seem nonsensical. While you ponder the mysteries of Elf encryption, you suddenly remember the rest of the decryption routine you overheard back at camp.\n",
    "\n",
    "First, you need to apply the decryption key, 811589153. Multiply each number by the decryption key before you begin; this will produce the actual list of numbers to mix.\n",
    "\n",
    "Second, you need to mix the list of numbers ten times. The order in which the numbers are mixed does not change during mixing; the numbers are still moved in the order they appeared in the original, pre-mixed list. (So, if -3 appears fourth in the original list of numbers to mix, -3 will be the fourth number to move during each round of mixing.)\n",
    "\n",
    "Using the same example as above:\n",
    "\n",
    "```\n",
    "Initial arrangement:\n",
    "811589153, 1623178306, -2434767459, 2434767459, -1623178306, 0, 3246356612\n",
    "\n",
    "After 1 round of mixing:\n",
    "0, -2434767459, 3246356612, -1623178306, 2434767459, 1623178306, 811589153\n",
    "\n",
    "After 2 rounds of mixing:\n",
    "0, 2434767459, 1623178306, 3246356612, -2434767459, -1623178306, 811589153\n",
    "\n",
    "After 3 rounds of mixing:\n",
    "0, 811589153, 2434767459, 3246356612, 1623178306, -1623178306, -2434767459\n",
    "\n",
    "After 4 rounds of mixing:\n",
    "0, 1623178306, -2434767459, 811589153, 2434767459, 3246356612, -1623178306\n",
    "\n",
    "After 5 rounds of mixing:\n",
    "0, 811589153, -1623178306, 1623178306, -2434767459, 3246356612, 2434767459\n",
    "\n",
    "After 6 rounds of mixing:\n",
    "0, 811589153, -1623178306, 3246356612, -2434767459, 1623178306, 2434767459\n",
    "\n",
    "After 7 rounds of mixing:\n",
    "0, -2434767459, 2434767459, 1623178306, -1623178306, 811589153, 3246356612\n",
    "\n",
    "After 8 rounds of mixing:\n",
    "0, 1623178306, 3246356612, 811589153, -2434767459, 2434767459, -1623178306\n",
    "\n",
    "After 9 rounds of mixing:\n",
    "0, 811589153, 1623178306, -2434767459, 3246356612, 2434767459, -1623178306\n",
    "\n",
    "After 10 rounds of mixing:\n",
    "0, -2434767459, 1623178306, 3246356612, -1623178306, 2434767459, 811589153\n",
    "The grove coordinates can still be found in the same way. Here, the 1000th number after 0 is 811589153, the 2000th is 2434767459, and the 3000th is -1623178306; adding these together produces 1623178306.\n",
    "```\n",
    "\n",
    "Apply the decryption key and mix your encrypted file ten times. ***What is the sum of the three numbers that form the grove coordinates?***"
   ]
  },
  {
   "cell_type": "code",
   "execution_count": 84,
   "id": "cd26dbc9",
   "metadata": {},
   "outputs": [
    {
     "data": {
      "text/plain": [
       "array([          0, -2434767459,  1623178306,  3246356612, -1623178306,\n",
       "        2434767459,   811589153])"
      ]
     },
     "execution_count": 84,
     "metadata": {},
     "output_type": "execute_result"
    }
   ],
   "source": [
    "decryption_key = 811589153\n",
    "actual_test_sequence = test_sequence * decryption_key\n",
    "actual_test_sequence\n",
    "MixedSequence(actual_test_sequence, MixFile(actual_test_sequence, 10))"
   ]
  },
  {
   "cell_type": "code",
   "execution_count": 85,
   "id": "f87f9bb0",
   "metadata": {},
   "outputs": [
    {
     "name": "stdout",
     "output_type": "stream",
     "text": [
      "The sum of the coordinates is 19185967576920\n"
     ]
    }
   ],
   "source": [
    "actual_sequence = sequence * decryption_key\n",
    "actual_final_positions = MixFile(actual_sequence, 10)\n",
    "actual_final_sequence = MixedSequence(actual_sequence, actual_final_positions)\n",
    "actual_zero_index = np.where(actual_final_sequence == 0)[0][0]\n",
    "coordinate_sum = (actual_final_sequence[(actual_zero_index + 1000) % len(actual_sequence)] +\n",
    "                  actual_final_sequence[(actual_zero_index + 2000) % len(actual_sequence)] +\n",
    "                  actual_final_sequence[(actual_zero_index + 3000) % len(actual_sequence)])\n",
    "print(f'The sum of the coordinates is {coordinate_sum}')"
   ]
  }
 ],
 "metadata": {
  "kernelspec": {
   "display_name": "Python 3 (ipykernel)",
   "language": "python",
   "name": "python3"
  },
  "language_info": {
   "codemirror_mode": {
    "name": "ipython",
    "version": 3
   },
   "file_extension": ".py",
   "mimetype": "text/x-python",
   "name": "python",
   "nbconvert_exporter": "python",
   "pygments_lexer": "ipython3",
   "version": "3.11.0"
  }
 },
 "nbformat": 4,
 "nbformat_minor": 5
}
