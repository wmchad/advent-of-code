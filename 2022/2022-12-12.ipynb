{
 "cells": [
  {
   "cell_type": "markdown",
   "id": "77c4416a",
   "metadata": {},
   "source": [
    "You try contacting the Elves using your handheld device, but the river you're following must be too low to get a decent signal.\n",
    "\n",
    "You ask the device for a heightmap of the surrounding area (your puzzle input). The heightmap shows the local area from above broken into a grid; the elevation of each square of the grid is given by a single lowercase letter, where a is the lowest elevation, b is the next-lowest, and so on up to the highest elevation, z.\n",
    "\n",
    "Also included on the heightmap are marks for your current position (S) and the location that should get the best signal (E). Your current position (S) has elevation a, and the location that should get the best signal (E) has elevation z.\n",
    "\n",
    "You'd like to reach E, but to save energy, you should do it in as few steps as possible. During each step, you can move exactly one square up, down, left, or right. To avoid needing to get out your climbing gear, the elevation of the destination square can be at most one higher than the elevation of your current square; that is, if your current elevation is m, you could step to elevation n, but not to elevation o. (This also means that the elevation of the destination square can be much lower than the elevation of your current square.)\n",
    "\n",
    "For example:\n",
    "\n",
    "```\n",
    "Sabqponm\n",
    "abcryxxl\n",
    "accszExk\n",
    "acctuvwj\n",
    "abdefghi\n",
    "```\n",
    "\n",
    "Here, you start in the top-left corner; your goal is near the middle. You could start by moving down or right, but eventually you'll need to head toward the e at the bottom. From there, you can spiral around to the goal:\n",
    "\n",
    "```\n",
    "v..v<<<<\n",
    ">v.vv<<^\n",
    ".>vv>E^^\n",
    "..v>>>^^\n",
    "..>>>>>^\n",
    "```\n",
    "\n",
    "In the above diagram, the symbols indicate whether the path exits each square moving up (`^`), down (`v`), left (`<`), or right (`>`). The location that should get the best signal is still E, and . marks unvisited squares.\n",
    "\n",
    "This path reaches the goal in 31 steps, the fewest possible.\n",
    "\n",
    "***What is the fewest steps required to move from your current position to the location that should get the best signal?***"
   ]
  },
  {
   "cell_type": "code",
   "execution_count": 29,
   "id": "769ff9af",
   "metadata": {},
   "outputs": [
    {
     "name": "stdout",
     "output_type": "stream",
     "text": [
      "Start at (20, 0), end at (20, 148)\n"
     ]
    }
   ],
   "source": [
    "import numpy as np\n",
    "import string\n",
    "input_file  = open(\"data/2022-12-12-input.txt\")\n",
    "input_lines = input_file.readlines()\n",
    "heights = np.array([list(x.strip()) for x in input_lines])\n",
    "[start_x, start_y] = np.argwhere(heights == \"S\")[0]\n",
    "[end_x, end_y] = np.argwhere(heights == \"E\")[0]\n",
    "print(f'Start at ({start_x}, {start_y}), end at ({end_x}, {end_y})')"
   ]
  },
  {
   "cell_type": "code",
   "execution_count": 82,
   "id": "dce82cac",
   "metadata": {},
   "outputs": [
    {
     "name": "stdout",
     "output_type": "stream",
     "text": [
      "The number of steps to get to the best location is 490\n"
     ]
    }
   ],
   "source": [
    "def PotentialNeighbors(x, y, min_x, max_x, min_y, max_y):\n",
    "    return [[poss_x, poss_y] for [poss_x, poss_y]\n",
    "            in [[x-1, y], [x+1, y], [x, y-1], [x, y+1]]\n",
    "            if poss_x >= min_x and poss_x < max_x and poss_y >= min_y and poss_y < max_y\n",
    "           ]\n",
    "min_x = 0\n",
    "max_x = np.shape(heights)[0]\n",
    "min_y = 0\n",
    "max_y = np.shape(heights)[1]\n",
    "\n",
    "height_map = {v:k for k,v in enumerate(string.ascii_lowercase)}\n",
    "height_map.update({'S': 0, 'E': 25})\n",
    "numeric_heights = np.vectorize(height_map.get)(heights)\n",
    "distances = np.full(np.shape(heights), 1000)\n",
    "\n",
    "active_locations = [[start_x, start_y]]\n",
    "distances[start_x, start_y] = 0\n",
    "\n",
    "while len(active_locations) > 0:\n",
    "    [cur_x, cur_y] = active_locations.pop(0)\n",
    "    for [next_x, next_y] in PotentialNeighbors(cur_x, cur_y, min_x, max_x, min_y, max_y):\n",
    "        if (numeric_heights[next_x, next_y] - numeric_heights[cur_x, cur_y] < 2\n",
    "            and distances[next_x, next_y] == 1000):\n",
    "            distances[next_x, next_y] = distances[cur_x, cur_y] + 1\n",
    "            active_locations.append([next_x, next_y])\n",
    "\n",
    "print(f'The number of steps to get to the best location is {distances[end_x, end_y]}')"
   ]
  },
  {
   "cell_type": "markdown",
   "id": "9f8caac7",
   "metadata": {},
   "source": [
    "As you walk up the hill, you suspect that the Elves will want to turn this into a hiking trail. The beginning isn't very scenic, though; perhaps you can find a better starting point.\n",
    "\n",
    "To maximize exercise while hiking, the trail should start as low as possible: elevation a. The goal is still the square marked E. However, the trail should still be direct, taking the fewest steps to reach its goal. So, you'll need to find the shortest path from any square at elevation a to the square marked E.\n",
    "\n",
    "Again consider the example from above:\n",
    "\n",
    "```\n",
    "Sabqponm\n",
    "abcryxxl\n",
    "accszExk\n",
    "acctuvwj\n",
    "abdefghi\n",
    "```\n",
    "\n",
    "Now, there are six choices for starting position (five marked a, plus the square marked S that counts as being at elevation a). If you start at the bottom-left square, you can reach the goal most quickly:\n",
    "\n",
    "```\n",
    "...v<<<<\n",
    "...vv<<^\n",
    "...v>E^^\n",
    ".>v>>>^^\n",
    ">^>>>>>^\n",
    "```\n",
    "\n",
    "This path reaches the goal in only 29 steps, the fewest possible.\n",
    "\n",
    "***What is the fewest steps required to move starting from any square with elevation a to the location that should get the best signal?***"
   ]
  },
  {
   "cell_type": "code",
   "execution_count": 105,
   "id": "5fa2e9c6",
   "metadata": {},
   "outputs": [
    {
     "name": "stdout",
     "output_type": "stream",
     "text": [
      "The fewest steps required to move from a square with elevation a to the best location is 488\n"
     ]
    }
   ],
   "source": [
    "def ShortestPath(from_x, from_y, to_x, to_y, numeric_heights):\n",
    "    min_x = 0\n",
    "    min_y = 0\n",
    "    [max_x, max_y] = np.shape(numeric_heights)\n",
    "    active_locations = [[from_x, from_y]]\n",
    "    distances = np.full(np.shape(numeric_heights), 1000)\n",
    "    distances[from_x, from_y] = 0\n",
    "    while len(active_locations) > 0:\n",
    "        [cur_x, cur_y] = active_locations.pop(0)\n",
    "        for [next_x, next_y] in PotentialNeighbors(cur_x, cur_y, min_x, max_x, min_y, max_y):\n",
    "            if (numeric_heights[next_x, next_y] - numeric_heights[cur_x, cur_y] < 2\n",
    "                and distances[next_x, next_y] == 1000):\n",
    "                if (next_x, next_y) == (to_x, to_y):\n",
    "                    return distances[cur_x, cur_y] + 1\n",
    "                distances[next_x, next_y] = distances[cur_x, cur_y] + 1\n",
    "                active_locations.append([next_x, next_y])\n",
    "    return 10000\n",
    "    \n",
    "shortest_paths = [ShortestPath(low_x, low_y, end_x, end_y, numeric_heights) for [low_x, low_y] in np.argwhere(numeric_heights == 0)]\n",
    "print(f'The fewest steps required to move from a square with elevation a to the best location is {min(shortest_paths)}')"
   ]
  }
 ],
 "metadata": {
  "kernelspec": {
   "display_name": "Python 3 (ipykernel)",
   "language": "python",
   "name": "python3"
  },
  "language_info": {
   "codemirror_mode": {
    "name": "ipython",
    "version": 3
   },
   "file_extension": ".py",
   "mimetype": "text/x-python",
   "name": "python",
   "nbconvert_exporter": "python",
   "pygments_lexer": "ipython3",
   "version": "3.11.0"
  }
 },
 "nbformat": 4,
 "nbformat_minor": 5
}
