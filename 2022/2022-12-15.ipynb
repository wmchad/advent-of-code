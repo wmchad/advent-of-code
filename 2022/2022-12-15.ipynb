{
 "cells": [
  {
   "cell_type": "markdown",
   "id": "5695b98c",
   "metadata": {},
   "source": [
    "You feel the ground rumble again as the distress signal leads you to a large network of subterranean tunnels. You don't have time to search them all, but you don't need to: your pack contains a set of deployable sensors that you imagine were originally built to locate lost Elves.\n",
    "\n",
    "The sensors aren't very powerful, but that's okay; your handheld device indicates that you're close enough to the source of the distress signal to use them. You pull the emergency sensor system out of your pack, hit the big button on top, and the sensors zoom off down the tunnels.\n",
    "\n",
    "Once a sensor finds a spot it thinks will give it a good reading, it attaches itself to a hard surface and begins monitoring for the nearest signal source beacon. Sensors and beacons always exist at integer coordinates. Each sensor knows its own position and can determine the position of a beacon precisely; however, sensors can only lock on to the one beacon closest to the sensor as measured by the Manhattan distance. (There is never a tie where two beacons are the same distance to a sensor.)\n",
    "\n",
    "It doesn't take long for the sensors to report back their positions and closest beacons (your puzzle input). For example:\n",
    "\n",
    "```\n",
    "Sensor at x=2, y=18: closest beacon is at x=-2, y=15\n",
    "Sensor at x=9, y=16: closest beacon is at x=10, y=16\n",
    "Sensor at x=13, y=2: closest beacon is at x=15, y=3\n",
    "Sensor at x=12, y=14: closest beacon is at x=10, y=16\n",
    "Sensor at x=10, y=20: closest beacon is at x=10, y=16\n",
    "Sensor at x=14, y=17: closest beacon is at x=10, y=16\n",
    "Sensor at x=8, y=7: closest beacon is at x=2, y=10\n",
    "Sensor at x=2, y=0: closest beacon is at x=2, y=10\n",
    "Sensor at x=0, y=11: closest beacon is at x=2, y=10\n",
    "Sensor at x=20, y=14: closest beacon is at x=25, y=17\n",
    "Sensor at x=17, y=20: closest beacon is at x=21, y=22\n",
    "Sensor at x=16, y=7: closest beacon is at x=15, y=3\n",
    "Sensor at x=14, y=3: closest beacon is at x=15, y=3\n",
    "Sensor at x=20, y=1: closest beacon is at x=15, y=3\n",
    "```\n",
    "\n",
    "So, consider the sensor at `2,18`; the closest beacon to it is at `-2,15`. For the sensor at `9,16`, the closest beacon to it is at `10,16`.\n",
    "\n",
    "Drawing sensors as S and beacons as B, the above arrangement of sensors and beacons looks like this:\n",
    "\n",
    "```\n",
    "               1    1    2    2\n",
    "     0    5    0    5    0    5\n",
    " 0 ....S.......................\n",
    " 1 ......................S.....\n",
    " 2 ...............S............\n",
    " 3 ................SB..........\n",
    " 4 ............................\n",
    " 5 ............................\n",
    " 6 ............................\n",
    " 7 ..........S.......S.........\n",
    " 8 ............................\n",
    " 9 ............................\n",
    "10 ....B.......................\n",
    "11 ..S.........................\n",
    "12 ............................\n",
    "13 ............................\n",
    "14 ..............S.......S.....\n",
    "15 B...........................\n",
    "16 ...........SB...............\n",
    "17 ................S..........B\n",
    "18 ....S.......................\n",
    "19 ............................\n",
    "20 ............S......S........\n",
    "21 ............................\n",
    "22 .......................B....\n",
    "```\n",
    "\n",
    "This isn't necessarily a comprehensive map of all beacons in the area, though. Because each sensor only identifies its closest beacon, if a sensor detects a beacon, you know there are no other beacons that close or closer to that sensor. There could still be beacons that just happen to not be the closest beacon to any sensor. Consider the sensor at `8,7`:\n",
    "\n",
    "```\n",
    "               1    1    2    2\n",
    "     0    5    0    5    0    5\n",
    "-2 ..........#.................\n",
    "-1 .........###................\n",
    " 0 ....S...#####...............\n",
    " 1 .......#######........S.....\n",
    " 2 ......#########S............\n",
    " 3 .....###########SB..........\n",
    " 4 ....#############...........\n",
    " 5 ...###############..........\n",
    " 6 ..#################.........\n",
    " 7 .#########S#######S#........\n",
    " 8 ..#################.........\n",
    " 9 ...###############..........\n",
    "10 ....B############...........\n",
    "11 ..S..###########............\n",
    "12 ......#########.............\n",
    "13 .......#######..............\n",
    "14 ........#####.S.......S.....\n",
    "15 B........###................\n",
    "16 ..........#SB...............\n",
    "17 ................S..........B\n",
    "18 ....S.......................\n",
    "19 ............................\n",
    "20 ............S......S........\n",
    "21 ............................\n",
    "22 .......................B....\n",
    "```\n",
    "\n",
    "This sensor's closest beacon is at `2,10`, and so you know there are no beacons that close or closer (in any positions marked `#`).\n",
    "\n",
    "None of the detected beacons seem to be producing the distress signal, so you'll need to work out where the distress beacon is by working out where it isn't. For now, keep things simple by counting the positions where a beacon cannot possibly be along just a single row.\n",
    "\n",
    "So, suppose you have an arrangement of beacons and sensors like in the example above and, just in the row where `y=10`, you'd like to count the number of positions a beacon cannot possibly exist. The coverage from all sensors near that row looks like this:\n",
    "\n",
    "```\n",
    "                 1    1    2    2\n",
    "       0    5    0    5    0    5\n",
    " 9 ...#########################...\n",
    "10 ..####B######################..\n",
    "11 .###S#############.###########.\n",
    "```\n",
    "\n",
    "In this example, in the row where `y=10`, there are 26 positions where a beacon cannot be present.\n",
    "\n",
    "Consult the report from the sensors you just deployed. ***In the row where y=2000000, how many positions cannot contain a beacon?***"
   ]
  },
  {
   "cell_type": "code",
   "execution_count": 44,
   "id": "4f405883",
   "metadata": {},
   "outputs": [
    {
     "data": {
      "text/plain": [
       "array([[ 3088287,  2966967,  3340990,  2451747],\n",
       "       [  289570,   339999,    20077,  1235084],\n",
       "       [ 1940197,  3386754,  2010485,  3291030],\n",
       "       [ 1979355,  2150711,  1690952,  2000000],\n",
       "       [ 2859415,  1555438,  3340990,  2451747],\n",
       "       [ 1015582,  2054755,  1690952,  2000000],\n",
       "       [ 1794782,  3963737,  2183727,  4148084],\n",
       "       [ 2357608,  2559811,  2010485,  3291030],\n",
       "       [    2936,  1218210,    20077,  1235084],\n",
       "       [ 2404143,  3161036,  2010485,  3291030],\n",
       "       [   12522,  1706324,    20077,  1235084],\n",
       "       [ 1989162,  3317864,  2010485,  3291030],\n",
       "       [  167388,  3570975, -1018858,  4296788],\n",
       "       [ 1586527,  2233885,  1690952,  2000000],\n",
       "       [  746571,  1442967,    20077,  1235084],\n",
       "       [ 3969726,  3857699,  3207147,  4217920],\n",
       "       [ 1403393,  2413121,  1690952,  2000000],\n",
       "       [ 2343717,  3649198,  2183727,  4148084],\n",
       "       [ 1473424,   688269,  2053598,  -169389],\n",
       "       [ 2669347,   190833,  2053598,  -169389],\n",
       "       [ 2973167,  3783783,  3207147,  4217920],\n",
       "       [ 2011835,  3314181,  2010485,  3291030],\n",
       "       [ 1602224,  2989728,  2010485,  3291030],\n",
       "       [ 3928889,  1064434,  3340990,  2451747],\n",
       "       [ 2018358,  3301778,  2010485,  3291030],\n",
       "       [ 1811905,  2084187,  1690952,  2000000],\n",
       "       [ 1767697,  1873118,  1690952,  2000000],\n",
       "       [  260786,  1154525,    20077,  1235084]])"
      ]
     },
     "execution_count": 44,
     "metadata": {},
     "output_type": "execute_result"
    }
   ],
   "source": [
    "import numpy as np\n",
    "import re\n",
    "input_file  = open(\"data/2022-12-15-input.txt\")\n",
    "input_lines = input_file.readlines()\n",
    "line_pattern = r'.*x\\=(\\-?[0-9]+).*y\\=(\\-?[0-9]+).*x\\=(\\-?[0-9]+).*y\\=(\\-?[0-9]+)'\n",
    "locations = np.array([list(map(int, re.search(line_pattern, line).groups())) for line in input_lines])\n",
    "locations"
   ]
  },
  {
   "cell_type": "code",
   "execution_count": 53,
   "id": "1587f26f",
   "metadata": {},
   "outputs": [
    {
     "data": {
      "text/plain": [
       "array([ 767923, 1164578,  166012,  439114, 1377884,  730125,  573292,\n",
       "       1078342,   34015,  523652,  478795,   48157, 1912059,  338310,\n",
       "        934377, 1122800,  700680,  658876, 1437832,  975971,  668117,\n",
       "         24501,  709563, 1975212,   18621,  205140,  203627,  321268])"
      ]
     },
     "execution_count": 53,
     "metadata": {},
     "output_type": "execute_result"
    }
   ],
   "source": [
    "distances = abs(locations[:,0] - locations[:,2]) + abs(locations[:,1] - locations[:,3])\n",
    "distances"
   ]
  },
  {
   "cell_type": "code",
   "execution_count": 54,
   "id": "5d900b6e",
   "metadata": {},
   "outputs": [
    {
     "data": {
      "text/plain": [
       "array([ -199044,  -495423, -1220742,   288403,   933322,   675370,\n",
       "       -1390445,   518531,  -747775,  -637384,   185119, -1269707,\n",
       "         341084,   104425,   377344,  -734899,   287559,  -990322,\n",
       "         126101,  -833196, -1115666, -1289680,  -280165,  1039646,\n",
       "       -1283157,   120953,    76745,  -524207])"
      ]
     },
     "execution_count": 54,
     "metadata": {},
     "output_type": "execute_result"
    }
   ],
   "source": [
    "target_y = 2000000\n",
    "margins = distances - abs(locations[:,1] - target_y)\n",
    "margins"
   ]
  },
  {
   "cell_type": "code",
   "execution_count": 61,
   "id": "476f5194",
   "metadata": {},
   "outputs": [
    {
     "data": {
      "text/plain": [
       "array([[1690952, 2267758],\n",
       "       [1926093, 3792737],\n",
       "       [ 340212, 1690952],\n",
       "       [1839077, 2876139],\n",
       "       [-172597,  197641],\n",
       "       [-173696,  508472],\n",
       "       [1482102, 1690952],\n",
       "       [ 369227, 1123915],\n",
       "       [1115834, 1690952],\n",
       "       [1347323, 1599525],\n",
       "       [2889243, 4968535],\n",
       "       [1690952, 1932858],\n",
       "       [1690952, 1844442]])"
      ]
     },
     "execution_count": 61,
     "metadata": {},
     "output_type": "execute_result"
    }
   ],
   "source": [
    "x_ranges = np.transpose([locations[:, 0] - margins, locations[:, 0] + margins])\n",
    "valid_x_ranges = x_ranges[x_ranges[:,0] < x_ranges[:,1], ]\n",
    "valid_x_ranges"
   ]
  },
  {
   "cell_type": "code",
   "execution_count": 101,
   "id": "0b0b3152",
   "metadata": {},
   "outputs": [
    {
     "name": "stdout",
     "output_type": "stream",
     "text": [
      "The number of positions that cannot contain a beacon in row 2000000 is 5142231\n"
     ]
    }
   ],
   "source": [
    "x_unions = np.empty((0, 2))\n",
    "for x_range in valid_x_ranges:\n",
    "    add_range = True\n",
    "    for i, x_union in enumerate(x_unions):\n",
    "        if x_range[0] <= x_union[1] and x_union[0] <= x_range[1]:\n",
    "            x_unions[i, :] = [min(x_range[0], x_union[0]), max(x_range[1], x_union[1])]\n",
    "            add_range = False\n",
    "            break\n",
    "    if add_range:\n",
    "        x_unions = np.r_[x_unions, [x_range]]\n",
    "\n",
    "# This is a horrible hack that works because I know what the data is\n",
    "print(f'The number of positions that cannot contain a beacon in row {target_y} is {int(x_unions[0,1] - x_unions[0,0])}')"
   ]
  },
  {
   "cell_type": "markdown",
   "id": "b6688151",
   "metadata": {},
   "source": [
    "Your handheld device indicates that the distress signal is coming from a beacon nearby. The distress beacon is not detected by any sensor, but the distress beacon must have x and y coordinates each no lower than 0 and no larger than 4000000.\n",
    "\n",
    "To isolate the distress beacon's signal, you need to determine its tuning frequency, which can be found by multiplying its x coordinate by 4000000 and then adding its y coordinate.\n",
    "\n",
    "In the example above, the search space is smaller: instead, the x and y coordinates can each be at most 20. With this reduced search area, there is only a single position that could have a beacon: x=14, y=11. The tuning frequency for this distress beacon is 56000011.\n",
    "\n",
    "***Find the only possible position for the distress beacon. What is its tuning frequency?***"
   ]
  },
  {
   "cell_type": "code",
   "execution_count": 211,
   "id": "2d34dc96",
   "metadata": {},
   "outputs": [
    {
     "data": {
      "text/plain": [
       "False"
      ]
     },
     "execution_count": 211,
     "metadata": {},
     "output_type": "execute_result"
    }
   ],
   "source": [
    "def IsInSensorRange(x, y, sensors, distances, max_coord):\n",
    "    if x < 0 or y < 0 or x > max_coord or y > max_coord:\n",
    "        return True\n",
    "    else:\n",
    "        return any(abs(sensors[:, 0] - x) + abs(sensors[:, 1] - y) <= distances)\n",
    "\n",
    "x = 2721114\n",
    "y = 3367718\n",
    "IsInSensorRange(x, y, locations, distances, max_coord)"
   ]
  },
  {
   "cell_type": "code",
   "execution_count": 217,
   "id": "44091411",
   "metadata": {},
   "outputs": [
    {
     "name": "stdout",
     "output_type": "stream",
     "text": [
      "The distress beacon is at (2721114, 3367718)\n"
     ]
    }
   ],
   "source": [
    "found_beacon = False\n",
    "for i in range(len(distances)):\n",
    "    if found_beacon:\n",
    "        break\n",
    "    s_x = locations[i, 0]\n",
    "    s_y = locations[i, 1]\n",
    "    for delta in range(distances[i] + 1):\n",
    "        x_offset = delta\n",
    "        y_offset = distances[i] + 1 - delta\n",
    "        if not IsInSensorRange(s_x + x_offset, s_y + y_offset, locations, distances, max_coord):\n",
    "            print(f'The distress beacon is at ({s_x + x_offset}, {s_y + y_offset})')\n",
    "            found_beacon = True\n",
    "            break\n",
    "        if not IsInSensorRange(s_x + x_offset, s_y - y_offset, locations, distances, max_coord):\n",
    "            print(f'The distress beacon is at ({s_x + x_offset}, {s_y - y_offset})')\n",
    "            found_beacon = True\n",
    "            break\n",
    "        if not IsInSensorRange(s_x - x_offset, s_y + y_offset, locations, distances, max_coord):\n",
    "            print(f'The distress beacon is at ({s_x - x_offset}, {s_y + y_offset})')\n",
    "            found_beacon = True\n",
    "            break\n",
    "        if not IsInSensorRange(s_x - x_offset, s_y - y_offset, locations, distances, max_coord):\n",
    "            print(f'The distress beacon is at ({s_x - x_offset}, {s_y - y_offset})')\n",
    "            found_beacon = True\n",
    "            break"
   ]
  },
  {
   "cell_type": "code",
   "execution_count": 214,
   "id": "1159fcbb",
   "metadata": {},
   "outputs": [
    {
     "name": "stdout",
     "output_type": "stream",
     "text": [
      "The tuning frequency is 10884459367718\n"
     ]
    }
   ],
   "source": [
    "print(f'The tuning frequency is {max_coord * (2721114) + 3367718}')\n",
    "# 10884463367718"
   ]
  }
 ],
 "metadata": {
  "kernelspec": {
   "display_name": "Python 3 (ipykernel)",
   "language": "python",
   "name": "python3"
  },
  "language_info": {
   "codemirror_mode": {
    "name": "ipython",
    "version": 3
   },
   "file_extension": ".py",
   "mimetype": "text/x-python",
   "name": "python",
   "nbconvert_exporter": "python",
   "pygments_lexer": "ipython3",
   "version": "3.11.0"
  }
 },
 "nbformat": 4,
 "nbformat_minor": 5
}
