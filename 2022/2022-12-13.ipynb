{
 "cells": [
  {
   "cell_type": "markdown",
   "id": "1f6a3264",
   "metadata": {},
   "source": [
    "You climb the hill and again try contacting the Elves. However, you instead receive a signal you weren't expecting: a distress signal.\n",
    "\n",
    "Your handheld device must still not be working properly; the packets from the distress signal got decoded out of order. You'll need to re-order the list of received packets (your puzzle input) to decode the message.\n",
    "\n",
    "Your list consists of pairs of packets; pairs are separated by a blank line. You need to identify how many pairs of packets are in the right order.\n",
    "\n",
    "For example:\n",
    "\n",
    "```\n",
    "[1,1,3,1,1]\n",
    "[1,1,5,1,1]\n",
    "\n",
    "[[1],[2,3,4]]\n",
    "[[1],4]\n",
    "\n",
    "[9]\n",
    "[[8,7,6]]\n",
    "\n",
    "[[4,4],4,4]\n",
    "[[4,4],4,4,4]\n",
    "\n",
    "[7,7,7,7]\n",
    "[7,7,7]\n",
    "\n",
    "[]\n",
    "[3]\n",
    "\n",
    "[[[]]]\n",
    "[[]]\n",
    "\n",
    "[1,[2,[3,[4,[5,6,7]]]],8,9]\n",
    "[1,[2,[3,[4,[5,6,0]]]],8,9]\n",
    "```\n",
    "\n",
    "Packet data consists of lists and integers. Each list starts with `[`, ends with `]`, and contains zero or more comma-separated values (either integers or other lists). Each packet is always a list and appears on its own line.\n",
    "\n",
    "When comparing two values, the first value is called left and the second value is called right. Then:\n",
    "\n",
    "- If both values are integers, the lower integer should come first. If the left integer is lower than the right integer, the inputs are in the right order. If the left integer is higher than the right integer, the inputs are not in the right order. Otherwise, the inputs are the same integer; continue checking the next part of the input.\n",
    "- If both values are lists, compare the first value of each list, then the second value, and so on. If the left list runs out of items first, the inputs are in the right order. If the right list runs out of items first, the inputs are not in the right order. If the lists are the same length and no comparison makes a decision about the order, continue checking the next part of the input.\n",
    "- If exactly one value is an integer, convert the integer to a list which contains that integer as its only value, then retry the comparison. For example, if comparing `[0,0,0]` and `2`, convert the right value to `[2]` (a list containing `2)`; the result is then found by instead comparing `[0,0,0]` and `[2]`.\n",
    "\n",
    "Using these rules, you can determine which of the pairs in the example are in the right order:\n",
    "\n",
    "```\n",
    "== Pair 1 ==\n",
    "- Compare [1,1,3,1,1] vs [1,1,5,1,1]\n",
    "  - Compare 1 vs 1\n",
    "  - Compare 1 vs 1\n",
    "  - Compare 3 vs 5\n",
    "    - Left side is smaller, so inputs are in the right order\n",
    "\n",
    "== Pair 2 ==\n",
    "- Compare [[1],[2,3,4]] vs [[1],4]\n",
    "  - Compare [1] vs [1]\n",
    "    - Compare 1 vs 1\n",
    "  - Compare [2,3,4] vs 4\n",
    "    - Mixed types; convert right to [4] and retry comparison\n",
    "    - Compare [2,3,4] vs [4]\n",
    "      - Compare 2 vs 4\n",
    "        - Left side is smaller, so inputs are in the right order\n",
    "\n",
    "== Pair 3 ==\n",
    "- Compare [9] vs [[8,7,6]]\n",
    "  - Compare 9 vs [8,7,6]\n",
    "    - Mixed types; convert left to [9] and retry comparison\n",
    "    - Compare [9] vs [8,7,6]\n",
    "      - Compare 9 vs 8\n",
    "        - Right side is smaller, so inputs are not in the right order\n",
    "\n",
    "== Pair 4 ==\n",
    "- Compare [[4,4],4,4] vs [[4,4],4,4,4]\n",
    "  - Compare [4,4] vs [4,4]\n",
    "    - Compare 4 vs 4\n",
    "    - Compare 4 vs 4\n",
    "  - Compare 4 vs 4\n",
    "  - Compare 4 vs 4\n",
    "  - Left side ran out of items, so inputs are in the right order\n",
    "\n",
    "== Pair 5 ==\n",
    "- Compare [7,7,7,7] vs [7,7,7]\n",
    "  - Compare 7 vs 7\n",
    "  - Compare 7 vs 7\n",
    "  - Compare 7 vs 7\n",
    "  - Right side ran out of items, so inputs are not in the right order\n",
    "\n",
    "== Pair 6 ==\n",
    "- Compare [] vs [3]\n",
    "  - Left side ran out of items, so inputs are in the right order\n",
    "\n",
    "== Pair 7 ==\n",
    "- Compare [[[]]] vs [[]]\n",
    "  - Compare [[]] vs []\n",
    "    - Right side ran out of items, so inputs are not in the right order\n",
    "\n",
    "== Pair 8 ==\n",
    "- Compare [1,[2,[3,[4,[5,6,7]]]],8,9] vs [1,[2,[3,[4,[5,6,0]]]],8,9]\n",
    "  - Compare 1 vs 1\n",
    "  - Compare [2,[3,[4,[5,6,7]]]] vs [2,[3,[4,[5,6,0]]]]\n",
    "    - Compare 2 vs 2\n",
    "    - Compare [3,[4,[5,6,7]]] vs [3,[4,[5,6,0]]]\n",
    "      - Compare 3 vs 3\n",
    "      - Compare [4,[5,6,7]] vs [4,[5,6,0]]\n",
    "        - Compare 4 vs 4\n",
    "        - Compare [5,6,7] vs [5,6,0]\n",
    "          - Compare 5 vs 5\n",
    "          - Compare 6 vs 6\n",
    "          - Compare 7 vs 0\n",
    "            - Right side is smaller, so inputs are not in the right order\n",
    "```\n",
    "\n",
    "What are the indices of the pairs that are already in the right order? (The first pair has index 1, the second pair has index 2, and so on.) In the above example, the pairs in the right order are 1, 2, 4, and 6; the sum of these indices is 13.\n",
    "\n",
    "***Determine which pairs of packets are already in the right order. What is the sum of the indices of those pairs?***"
   ]
  },
  {
   "cell_type": "code",
   "execution_count": 17,
   "id": "7f80ced1",
   "metadata": {},
   "outputs": [],
   "source": [
    "import numpy as np\n",
    "import ast\n",
    "input_file  = open(\"data/2022-12-13-input.txt\")\n",
    "input_lines = input_file.readlines()\n",
    "packets = [ast.literal_eval(line.strip()) for line in input_lines if line.startswith('[')]"
   ]
  },
  {
   "cell_type": "code",
   "execution_count": 126,
   "id": "925c4f9e",
   "metadata": {},
   "outputs": [],
   "source": [
    "def IsRightOrder(l1, l2):\n",
    "    #print(f'l1: {l1}  --  l2: {l2}')\n",
    "    match [l1, l2]:\n",
    "        case [[], []]:\n",
    "            #print(\"1st\")\n",
    "            return True;\n",
    "        case [[x, *x_rest], [y, *y_rest]]:\n",
    "            #print(f'{x_rest}, {y_rest}')\n",
    "            return not IsRightOrder(y, x) or (IsRightOrder(x, y) and (len(x_rest) == 0 or IsRightOrder(x_rest, y_rest)))\n",
    "        case [x, [y, *y_rest]]:\n",
    "            #print(\"2nd\")\n",
    "            return IsRightOrder(x, y)\n",
    "        case [[x, *x_rest], y]:\n",
    "            #print(\"3rd\")\n",
    "            return not IsRightOrder(y, x)\n",
    "        case [[], y]:\n",
    "            #print(\"4th\")\n",
    "            return True\n",
    "        case [x, []]:\n",
    "            #print(\"5th\")\n",
    "            return False\n",
    "        case [x, y]:\n",
    "            #print(\"6th\")\n",
    "            return l1 <= l2\n",
    "    return -1"
   ]
  },
  {
   "cell_type": "code",
   "execution_count": 127,
   "id": "158f5027",
   "metadata": {},
   "outputs": [
    {
     "name": "stdout",
     "output_type": "stream",
     "text": [
      "l1: [1, 1, 3, 1, 1], l2: [1, 1, 5, 1, 1]\n",
      "Right answer is True, IsRightOrder gives True\n",
      "l1: [[1], [2, 3, 4]], l2: [[1], 4]\n",
      "Right answer is True, IsRightOrder gives True\n",
      "l1: [9], l2: [[8, 7, 6]]\n",
      "Right answer is False, IsRightOrder gives False\n",
      "l1: [[4, 4], 4, 4], l2: [[4, 4], 4, 4, 4]\n",
      "Right answer is True, IsRightOrder gives True\n",
      "l1: [7, 7, 7, 7], l2: [7, 7, 7]\n",
      "Right answer is False, IsRightOrder gives False\n",
      "l1: [], l2: [3]\n",
      "Right answer is True, IsRightOrder gives True\n",
      "l1: [[[]]], l2: [[]]\n",
      "Right answer is False, IsRightOrder gives False\n",
      "l1: [1, [2, [3, [4, [5, 6, 7]]]], 8, 9], l2: [1, [2, [3, [4, [5, 6, 0]]]], 8, 9]\n",
      "Right answer is False, IsRightOrder gives False\n"
     ]
    }
   ],
   "source": [
    "def TestOrder(l1, l2, right_answer):\n",
    "    print(f'l1: {l1}, l2: {l2}')\n",
    "    print(f'Right answer is {right_answer}, IsRightOrder gives {IsRightOrder(l1, l2)}')\n",
    "    \n",
    "TestOrder([1,1,3,1,1], [1,1,5,1,1], True)    \n",
    "TestOrder([[1],[2,3,4]], [[1],4], True)\n",
    "TestOrder([9], [[8,7,6]], False)\n",
    "TestOrder([[4,4],4,4], [[4,4],4,4,4], True)\n",
    "TestOrder([7,7,7,7], [7,7,7], False)\n",
    "TestOrder([], [3], True)\n",
    "TestOrder([[[]]], [[]], False)\n",
    "TestOrder([1,[2,[3,[4,[5,6,7]]]],8,9], [1,[2,[3,[4,[5,6,0]]]],8,9], False)"
   ]
  },
  {
   "cell_type": "code",
   "execution_count": 129,
   "id": "73316631",
   "metadata": {},
   "outputs": [
    {
     "name": "stdout",
     "output_type": "stream",
     "text": [
      "The number of packets in the right order is 79\n",
      "The sum of the right-order indices is 5503\n"
     ]
    }
   ],
   "source": [
    "right_order = [IsRightOrder(packets[2*i], packets[2*i+1]) for i in range(len(packets) // 2)]\n",
    "print(f'The number of packets in the right order is {sum(right_order)}')\n",
    "print(f'The sum of the right-order indices is {sum(i+1 for i in range(len(right_order)) if right_order[i])}')\n"
   ]
  },
  {
   "cell_type": "markdown",
   "id": "2a7ce43f",
   "metadata": {},
   "source": [
    "Now, you just need to put all of the packets in the right order. Disregard the blank lines in your list of received packets.\n",
    "\n",
    "The distress signal protocol also requires that you include two additional divider packets:\n",
    "\n",
    "```\n",
    "[[2]]\n",
    "[[6]]\n",
    "```\n",
    "\n",
    "Using the same rules as before, organize all packets - the ones in your list of received packets as well as the two divider packets - into the correct order.\n",
    "\n",
    "For the example above, the result of putting the packets in the correct order is:\n",
    "\n",
    "```\n",
    "[]\n",
    "[[]]\n",
    "[[[]]]\n",
    "[1,1,3,1,1]\n",
    "[1,1,5,1,1]\n",
    "[[1],[2,3,4]]\n",
    "[1,[2,[3,[4,[5,6,0]]]],8,9]\n",
    "[1,[2,[3,[4,[5,6,7]]]],8,9]\n",
    "[[1],4]\n",
    "[[2]]\n",
    "[3]\n",
    "[[4,4],4,4]\n",
    "[[4,4],4,4,4]\n",
    "[[6]]\n",
    "[7,7,7]\n",
    "[7,7,7,7]\n",
    "[[8,7,6]]\n",
    "[9]\n",
    "```\n",
    "\n",
    "Afterward, locate the divider packets. To find the decoder key for this distress signal, you need to determine the indices of the two divider packets and multiply them together. (The first packet is at index 1, the second packet is at index 2, and so on.) In this example, the divider packets are 10th and 14th, and so the decoder key is 140.\n",
    "\n",
    "***Organize all of the packets into the correct order. What is the decoder key for the distress signal?***"
   ]
  },
  {
   "cell_type": "code",
   "execution_count": 137,
   "id": "5385357f",
   "metadata": {},
   "outputs": [
    {
     "data": {
      "text/plain": [
       "[[6]]"
      ]
     },
     "execution_count": 137,
     "metadata": {},
     "output_type": "execute_result"
    }
   ],
   "source": [
    "divider_packet_1 = [[2]]\n",
    "divider_packet_2 = [[6]]\n",
    "all_packets = packets.copy()\n",
    "all_packets.append(divider_packet_1)\n",
    "all_packets.append(divider_packet_2)"
   ]
  },
  {
   "cell_type": "code",
   "execution_count": 151,
   "id": "91f0156a",
   "metadata": {},
   "outputs": [
    {
     "name": "stdout",
     "output_type": "stream",
     "text": [
      "The decorder key is 20952\n"
     ]
    }
   ],
   "source": [
    "import functools\n",
    "def ListOrdering(l1, l2):\n",
    "    if IsRightOrder(l1, l2) and IsRightOrder(l2, l1):\n",
    "        return 0\n",
    "    elif IsRightOrder(l1, l2):\n",
    "        return -1\n",
    "    else: return 1\n",
    "\n",
    "sorted_packets = sorted(all_packets, key=functools.cmp_to_key(ListOrdering))\n",
    "divider_indices = [i for i in range(len(sorted_packets))\n",
    "                   if sorted_packets[i] == divider_packet_1 or sorted_packets[i] == divider_packet_2]\n",
    "print(f'The decorder key is {(divider_indices[0] + 1) * (divider_indices[1] + 1)}')"
   ]
  }
 ],
 "metadata": {
  "kernelspec": {
   "display_name": "Python 3 (ipykernel)",
   "language": "python",
   "name": "python3"
  },
  "language_info": {
   "codemirror_mode": {
    "name": "ipython",
    "version": 3
   },
   "file_extension": ".py",
   "mimetype": "text/x-python",
   "name": "python",
   "nbconvert_exporter": "python",
   "pygments_lexer": "ipython3",
   "version": "3.11.0"
  }
 },
 "nbformat": 4,
 "nbformat_minor": 5
}
