{
 "cells": [
  {
   "cell_type": "markdown",
   "id": "24fbdf99",
   "metadata": {},
   "source": [
    "The jungle must be too overgrown and difficult to navigate in vehicles or access from the air; the Elves' expedition traditionally goes on foot. As your boats approach land, the Elves begin taking inventory of their supplies. One important consideration is food - in particular, the number of Calories each Elf is carrying (your puzzle input).\n",
    "\n",
    "The Elves take turns writing down the number of Calories contained by the various meals, snacks, rations, etc. that they've brought with them, one item per line. Each Elf separates their own inventory from the previous Elf's inventory (if any) by a blank line.\n",
    "\n",
    "For example, suppose the Elves finish writing their items' Calories and end up with the following list:\n",
    "\n",
    "```\n",
    "1000\n",
    "2000\n",
    "3000\n",
    "\n",
    "4000\n",
    "\n",
    "5000\n",
    "6000\n",
    "\n",
    "7000\n",
    "8000\n",
    "9000\n",
    "\n",
    "10000\n",
    "```\n",
    "\n",
    "This list represents the Calories of the food carried by five Elves:\n",
    "\n",
    "The first Elf is carrying food with 1000, 2000, and 3000 Calories, a total of 6000 Calories.\n",
    "The second Elf is carrying one food item with 4000 Calories.\n",
    "The third Elf is carrying food with 5000 and 6000 Calories, a total of 11000 Calories.\n",
    "The fourth Elf is carrying food with 7000, 8000, and 9000 Calories, a total of 24000 Calories.\n",
    "The fifth Elf is carrying one food item with 10000 Calories.\n",
    "In case the Elves get hungry and need extra snacks, they need to know which Elf to ask: they'd like to know how many Calories are being carried by the Elf carrying the most Calories. In the example above, this is 24000 (carried by the fourth Elf).\n",
    "\n",
    "Find the Elf carrying the most Calories. How many total Calories is that Elf carrying?"
   ]
  },
  {
   "cell_type": "code",
   "execution_count": 2,
   "id": "36711986",
   "metadata": {},
   "outputs": [],
   "source": [
    "input_file = open(\"data/2022-12-01-input.txt\")\n",
    "input_lines = input_file.readlines()"
   ]
  },
  {
   "cell_type": "code",
   "execution_count": 2,
   "id": "08023ce7",
   "metadata": {},
   "outputs": [
    {
     "name": "stdout",
     "output_type": "stream",
     "text": [
      "The maximum calories being carried by a single elf is 73211\n"
     ]
    }
   ],
   "source": [
    "elf_cals = []\n",
    "current_elf_cal = 0\n",
    "for line in input_lines:\n",
    "    match line.strip():\n",
    "        case \"\":\n",
    "            elf_cals.append(current_elf_cal)\n",
    "            current_elf_cal = 0\n",
    "        case cals:\n",
    "            current_elf_cal += int(cals)\n",
    "elf_cals.sort()\n",
    "        \n",
    "print(f'The maximum calories being carried by a single elf is {elf_cals[-1]}')"
   ]
  },
  {
   "cell_type": "markdown",
   "id": "253b38ef",
   "metadata": {},
   "source": [
    "By the time you calculate the answer to the Elves' question, they've already realized that the Elf carrying the most Calories of food might eventually run out of snacks.\n",
    "\n",
    "To avoid this unacceptable situation, the Elves would instead like to know the total Calories carried by the top three Elves carrying the most Calories. That way, even if one of those Elves runs out of snacks, they still have two backups.\n",
    "\n",
    "In the example above, the top three Elves are the fourth Elf (with 24000 Calories), then the third Elf (with 11000 Calories), then the fifth Elf (with 10000 Calories). The sum of the Calories carried by these three elves is 45000.\n",
    "\n",
    "Find the top three Elves carrying the most Calories. How many Calories are those Elves carrying in total?"
   ]
  },
  {
   "cell_type": "code",
   "execution_count": 3,
   "id": "8f078491",
   "metadata": {},
   "outputs": [
    {
     "name": "stdout",
     "output_type": "stream",
     "text": [
      "[69172, 71575, 73211]\n",
      "The calories being carried by the three elves carrying the most is 213958\n"
     ]
    }
   ],
   "source": [
    "print(elf_cals[-3:])\n",
    "print(f'The calories being carried by the three elves carrying the most is {sum(elf_cals[-3:])}')"
   ]
  }
 ],
 "metadata": {
  "kernelspec": {
   "display_name": "Python 3 (ipykernel)",
   "language": "python",
   "name": "python3"
  },
  "language_info": {
   "codemirror_mode": {
    "name": "ipython",
    "version": 3
   },
   "file_extension": ".py",
   "mimetype": "text/x-python",
   "name": "python",
   "nbconvert_exporter": "python",
   "pygments_lexer": "ipython3",
   "version": "3.11.0"
  }
 },
 "nbformat": 4,
 "nbformat_minor": 5
}
