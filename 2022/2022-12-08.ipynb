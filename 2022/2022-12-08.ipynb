{
 "cells": [
  {
   "cell_type": "markdown",
   "id": "14f9affe",
   "metadata": {},
   "source": [
    "The expedition comes across a peculiar patch of tall trees all planted carefully in a grid. The Elves explain that a previous expedition planted these trees as a reforestation effort. Now, they're curious if this would be a good location for a tree house.\n",
    "\n",
    "First, determine whether there is enough tree cover here to keep a tree house hidden. To do this, you need to count the number of trees that are visible from outside the grid when looking directly along a row or column.\n",
    "\n",
    "The Elves have already launched a quadcopter to generate a map with the height of each tree (your puzzle input). For example:\n",
    "\n",
    "```\n",
    "30373\n",
    "25512\n",
    "65332\n",
    "33549\n",
    "35390\n",
    "```\n",
    "\n",
    "Each tree is represented as a single digit whose value is its height, where 0 is the shortest and 9 is the tallest.\n",
    "\n",
    "A tree is visible if all of the other trees between it and an edge of the grid are shorter than it. Only consider trees in the same row or column; that is, only look up, down, left, or right from any given tree.\n",
    "\n",
    "All of the trees around the edge of the grid are visible - since they are already on the edge, there are no trees to block the view. In this example, that only leaves the interior nine trees to consider:\n",
    "\n",
    "- The top-left 5 is visible from the left and top. (It isn't visible from the right or bottom since other trees of height 5 are in the way.)\n",
    "- The top-middle 5 is visible from the top and right.\n",
    "- The top-right 1 is not visible from any direction; for it to be visible, there would need to only be trees of height 0 between it and an edge.\n",
    "- The left-middle 5 is visible, but only from the right.\n",
    "- The center 3 is not visible from any direction; for it to be visible, there would need to be only trees of at most height 2 between it and an edge.\n",
    "- The right-middle 3 is visible from the right.\n",
    "- In the bottom row, the middle 5 is visible, but the 3 and 4 are not.\n",
    "\n",
    "With 16 trees visible on the edge and another 5 visible in the interior, a total of 21 trees are visible in this arrangement.\n",
    "\n",
    "Consider your map; how many trees are visible from outside the grid?"
   ]
  },
  {
   "cell_type": "code",
   "execution_count": 75,
   "id": "8b15f64c",
   "metadata": {},
   "outputs": [
    {
     "name": "stdout",
     "output_type": "stream",
     "text": [
      "(99, 99)\n"
     ]
    },
    {
     "data": {
      "text/plain": [
       "array([[1, 0, 0, 0, 2],\n",
       "       [1, 1, 1, 1, 1],\n",
       "       [2, 2, 2, 1, 0],\n",
       "       [2, 1, 2, 2, 1],\n",
       "       [1, 1, 2, 0, 0]], dtype=int32)"
      ]
     },
     "execution_count": 75,
     "metadata": {},
     "output_type": "execute_result"
    }
   ],
   "source": [
    "import numpy as np\n",
    "input_file = open(\"data/2022-12-08-input.txt\")\n",
    "input_lines = input_file.readlines()\n",
    "tree_grid = np.array([list(line.strip()) for line in input_lines], np.int32)\n",
    "print(tree_grid.shape)\n",
    "tree_grid[:5, :5]"
   ]
  },
  {
   "cell_type": "code",
   "execution_count": 82,
   "id": "eef63335",
   "metadata": {},
   "outputs": [
    {
     "name": "stdout",
     "output_type": "stream",
     "text": [
      "There are 1796 trees visible from outside the grid.\n"
     ]
    }
   ],
   "source": [
    "visible_tree = np.full(tree_grid.shape, False)\n",
    "for i in range(tree_grid.shape[0]):\n",
    "    for j in range(tree_grid.shape[1]):\n",
    "        visible_tree[i, j] = tree_grid[i, j] > min([np.max(row, initial = -10) for row in [\n",
    "            tree_grid[:i, j],\n",
    "            tree_grid[(i+1):, j],\n",
    "            tree_grid[i, :j],\n",
    "            tree_grid[i, (j+1):]\n",
    "        ]])\n",
    "print(f'There are {visible_tree.sum()} trees visible from outside the grid.')"
   ]
  },
  {
   "cell_type": "markdown",
   "id": "dcdc44f5",
   "metadata": {},
   "source": [
    "Content with the amount of tree cover available, the Elves just need to know the best spot to build their tree house: they would like to be able to see a lot of trees.\n",
    "\n",
    "To measure the viewing distance from a given tree, look up, down, left, and right from that tree; stop if you reach an edge or at the first tree that is the same height or taller than the tree under consideration. (If a tree is right on the edge, at least one of its viewing distances will be zero.)\n",
    "\n",
    "The Elves don't care about distant trees taller than those found by the rules above; the proposed tree house has large eaves to keep it dry, so they wouldn't be able to see higher than the tree house anyway.\n",
    "\n",
    "In the example above, consider the middle 5 in the second row:\n",
    "\n",
    "```\n",
    "30373\n",
    "25512\n",
    "65332\n",
    "33549\n",
    "35390\n",
    "```\n",
    "\n",
    "- Looking up, its view is not blocked; it can see 1 tree (of height 3).\n",
    "- Looking left, its view is blocked immediately; it can see only 1 tree (of height 5, right next to it).\n",
    "- Looking right, its view is not blocked; it can see 2 trees.\n",
    "- Looking down, its view is blocked eventually; it can see 2 trees (one of height 3, then the tree of height 5 that blocks its view).\n",
    "\n",
    "A tree's scenic score is found by multiplying together its viewing distance in each of the four directions. For this tree, this is 4 (found by multiplying 1 * 1 * 2 * 2).\n",
    "\n",
    "However, you can do even better: consider the tree of height 5 in the middle of the fourth row:\n",
    "\n",
    "```\n",
    "30373\n",
    "25512\n",
    "65332\n",
    "33549\n",
    "35390\n",
    "```\n",
    "\n",
    "- Looking up, its view is blocked at 2 trees (by another tree with a height of 5).\n",
    "- Looking left, its view is not blocked; it can see 2 trees.\n",
    "- Looking down, its view is also not blocked; it can see 1 tree.\n",
    "- Looking right, its view is blocked at 2 trees (by a massive tree of height 9).\n",
    "\n",
    "This tree's scenic score is 8 (2 * 2 * 1 * 2); this is the ideal spot for the tree house.\n",
    "\n",
    "Consider each tree on your map. What is the highest scenic score possible for any tree?"
   ]
  },
  {
   "cell_type": "code",
   "execution_count": 143,
   "id": "c18bfa42",
   "metadata": {},
   "outputs": [
    {
     "name": "stdout",
     "output_type": "stream",
     "text": [
      "The highest scenic score possible for any tree is 288120\n"
     ]
    }
   ],
   "source": [
    "def VisibleTrees(trees, view_height):\n",
    "    match list(trees):\n",
    "        case []:\n",
    "            return 0\n",
    "        case [n, *rest] if n < view_height:\n",
    "            return 1 + VisibleTrees(trees[1:], view_height)\n",
    "        case _:\n",
    "            return 1\n",
    "        \n",
    "def ScenicScore(trees, i, j):\n",
    "    tree_height = trees[i, j]\n",
    "    return (VisibleTrees(np.flip(trees[:i, j]), tree_height) *\n",
    "            VisibleTrees(trees[(i+1):, j], tree_height) *\n",
    "            VisibleTrees(np.flip(trees[i, :j]), tree_height) *\n",
    "            VisibleTrees(trees[i, (j+1):], tree_height))\n",
    "\n",
    "max_score = 0\n",
    "for i in range(tree_grid.shape[0]):\n",
    "    for j in range(tree_grid.shape[1]):\n",
    "        max_score = max(max_score, ScenicScore(tree_grid, i, j))\n",
    "        \n",
    "print(f'The highest scenic score possible for any tree is {max_score}')"
   ]
  },
  {
   "cell_type": "code",
   "execution_count": 145,
   "id": "a48b819a",
   "metadata": {},
   "outputs": [
    {
     "name": "stdout",
     "output_type": "stream",
     "text": [
      "The highest scenic score possible for any tree is 288120\n"
     ]
    }
   ],
   "source": [
    "max_score2 = 0\n",
    "it = np.nditer(tree_grid, flags=['multi_index'])\n",
    "while not it.finished:\n",
    "    max_score2 = max(max_score2, ScenicScore(tree_grid, it.multi_index[0], it.multi_index[1]))\n",
    "    is_not_finished = it.iternext()\n",
    "    \n",
    "print(f'The highest scenic score possible for any tree is {max_score2}')"
   ]
  }
 ],
 "metadata": {
  "kernelspec": {
   "display_name": "Python 3 (ipykernel)",
   "language": "python",
   "name": "python3"
  },
  "language_info": {
   "codemirror_mode": {
    "name": "ipython",
    "version": 3
   },
   "file_extension": ".py",
   "mimetype": "text/x-python",
   "name": "python",
   "nbconvert_exporter": "python",
   "pygments_lexer": "ipython3",
   "version": "3.11.0"
  }
 },
 "nbformat": 4,
 "nbformat_minor": 5
}
