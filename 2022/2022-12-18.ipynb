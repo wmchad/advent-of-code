{
 "cells": [
  {
   "cell_type": "markdown",
   "id": "35aae83b",
   "metadata": {},
   "source": [
    "You and the elephants finally reach fresh air. You've emerged near the base of a large volcano that seems to be actively erupting! Fortunately, the lava seems to be flowing away from you and toward the ocean.\n",
    "\n",
    "Bits of lava are still being ejected toward you, so you're sheltering in the cavern exit a little longer. Outside the cave, you can see the lava landing in a pond and hear it loudly hissing as it solidifies.\n",
    "\n",
    "Depending on the specific compounds in the lava and speed at which it cools, it might be forming obsidian! The cooling rate should be based on the surface area of the lava droplets, so you take a quick scan of a droplet as it flies past you (your puzzle input).\n",
    "\n",
    "Because of how quickly the lava is moving, the scan isn't very good; its resolution is quite low and, as a result, it approximates the shape of the lava droplet with 1x1x1 cubes on a 3D grid, each given as its x,y,z position.\n",
    "\n",
    "To approximate the surface area, count the number of sides of each cube that are not immediately connected to another cube. So, if your scan were only two adjacent cubes like 1,1,1 and 2,1,1, each cube would have a single side covered and five sides exposed, a total surface area of 10 sides.\n",
    "\n",
    "Here's a larger example:\n",
    "\n",
    "```\n",
    "2,2,2\n",
    "1,2,2\n",
    "3,2,2\n",
    "2,1,2\n",
    "2,3,2\n",
    "2,2,1\n",
    "2,2,3\n",
    "2,2,4\n",
    "2,2,6\n",
    "1,2,5\n",
    "3,2,5\n",
    "2,1,5\n",
    "2,3,5\n",
    "```\n",
    "\n",
    "In the above example, after counting up all the sides that aren't connected to another cube, the total surface area is 64.\n",
    "\n",
    "***What is the surface area of your scanned lava droplet?***"
   ]
  },
  {
   "cell_type": "code",
   "execution_count": 21,
   "id": "092bbee4",
   "metadata": {},
   "outputs": [
    {
     "name": "stdout",
     "output_type": "stream",
     "text": [
      "(9, 1, 10)\n"
     ]
    }
   ],
   "source": [
    "import numpy as np\n",
    "input_file  = open(\"data/2022-12-18-input.txt\")\n",
    "droplet_coords = {tuple([int(x) for x in line.strip().split(',')]) for line in input_file.readlines()}\n",
    "len(droplet_coords)\n",
    "print(next(iter(droplet_coords)))"
   ]
  },
  {
   "cell_type": "code",
   "execution_count": 24,
   "id": "09602671",
   "metadata": {},
   "outputs": [
    {
     "name": "stdout",
     "output_type": "stream",
     "text": [
      "The surface area of the droplet is 4244 units\n"
     ]
    }
   ],
   "source": [
    "surface_area = 6 * len(droplet_coords)\n",
    "for (x, y, z) in droplet_coords:\n",
    "    if (x + 1, y, z) in droplet_coords:\n",
    "        surface_area -= 1\n",
    "    if (x - 1, y, z) in droplet_coords:\n",
    "        surface_area -= 1\n",
    "    if (x, y + 1, z) in droplet_coords:\n",
    "        surface_area -= 1\n",
    "    if (x, y - 1, z) in droplet_coords:\n",
    "        surface_area -= 1\n",
    "    if (x, y, z + 1) in droplet_coords:\n",
    "        surface_area -= 1\n",
    "    if (x, y, z - 1) in droplet_coords:\n",
    "        surface_area -= 1\n",
    "    \n",
    "print(f'The surface area of the droplet is {surface_area} units')"
   ]
  },
  {
   "cell_type": "markdown",
   "id": "025c9573",
   "metadata": {},
   "source": [
    "Something seems off about your calculation. The cooling rate depends on exterior surface area, but your calculation also included the surface area of air pockets trapped in the lava droplet.\n",
    "\n",
    "Instead, consider only cube sides that could be reached by the water and steam as the lava droplet tumbles into the pond. The steam will expand to reach as much as possible, completely displacing any air on the outside of the lava droplet but never expanding diagonally.\n",
    "\n",
    "In the larger example above, exactly one cube of air is trapped within the lava droplet (at 2,2,5), so the exterior surface area of the lava droplet is 58.\n",
    "\n",
    "***What is the exterior surface area of your scanned lava droplet?***"
   ]
  },
  {
   "cell_type": "code",
   "execution_count": 40,
   "id": "2c1af12a",
   "metadata": {},
   "outputs": [
    {
     "name": "stdout",
     "output_type": "stream",
     "text": [
      "The surface area of the droplet is 2460 units\n"
     ]
    }
   ],
   "source": [
    "def IsUnreachable(x, y, z, coords, min_x, max_x, min_y, max_y, min_z, max_z, tested_coords):\n",
    "    if (x, y, z) in coords or (x, y, z) in tested_coords:\n",
    "        return True\n",
    "    if x < min_x or x > max_x or y < min_y or y > max_y or z < min_z or z > max_z:\n",
    "        return False\n",
    "    tested_coords.add((x, y, z))\n",
    "    return (IsUnreachable(x - 1, y, z, coords, min_x, max_x, min_y, max_y, min_z, max_z, tested_coords) and\n",
    "            IsUnreachable(x + 1, y, z, coords, min_x, max_x, min_y, max_y, min_z, max_z, tested_coords) and\n",
    "            IsUnreachable(x, y - 1, z, coords, min_x, max_x, min_y, max_y, min_z, max_z, tested_coords) and\n",
    "            IsUnreachable(x, y + 1, z, coords, min_x, max_x, min_y, max_y, min_z, max_z, tested_coords) and\n",
    "            IsUnreachable(x, y, z - 1, coords, min_x, max_x, min_y, max_y, min_z, max_z, tested_coords) and\n",
    "            IsUnreachable(x, y, z + 1, coords, min_x, max_x, min_y, max_y, min_z, max_z, tested_coords))\n",
    "\n",
    "min_x = min([x[0] for x in droplet_coords])\n",
    "max_x = max([x[0] for x in droplet_coords])\n",
    "min_y = min([x[1] for x in droplet_coords])\n",
    "max_y = max([x[1] for x in droplet_coords])\n",
    "min_z = min([x[2] for x in droplet_coords])\n",
    "max_z = max([x[2] for x in droplet_coords])\n",
    "\n",
    "surface_area = 6 * len(droplet_coords)\n",
    "for (x, y, z) in droplet_coords:\n",
    "    if IsUnreachable(x + 1, y, z, droplet_coords, min_x, max_x, min_y, max_y, min_z, max_z, set()):\n",
    "        surface_area -= 1\n",
    "    if IsUnreachable(x - 1, y, z, droplet_coords, min_x, max_x, min_y, max_y, min_z, max_z, set()):\n",
    "        surface_area -= 1\n",
    "    if IsUnreachable(x, y + 1, z, droplet_coords, min_x, max_x, min_y, max_y, min_z, max_z, set()):\n",
    "        surface_area -= 1\n",
    "    if IsUnreachable(x, y - 1, z, droplet_coords, min_x, max_x, min_y, max_y, min_z, max_z, set()):\n",
    "        surface_area -= 1\n",
    "    if IsUnreachable(x, y, z + 1, droplet_coords, min_x, max_x, min_y, max_y, min_z, max_z, set()):\n",
    "        surface_area -= 1\n",
    "    if IsUnreachable(x, y, z - 1, droplet_coords, min_x, max_x, min_y, max_y, min_z, max_z, set()):\n",
    "        surface_area -= 1\n",
    "    \n",
    "print(f'The surface area of the droplet is {surface_area} units')"
   ]
  }
 ],
 "metadata": {
  "kernelspec": {
   "display_name": "Python 3 (ipykernel)",
   "language": "python",
   "name": "python3"
  },
  "language_info": {
   "codemirror_mode": {
    "name": "ipython",
    "version": 3
   },
   "file_extension": ".py",
   "mimetype": "text/x-python",
   "name": "python",
   "nbconvert_exporter": "python",
   "pygments_lexer": "ipython3",
   "version": "3.11.0"
  }
 },
 "nbformat": 4,
 "nbformat_minor": 5
}
